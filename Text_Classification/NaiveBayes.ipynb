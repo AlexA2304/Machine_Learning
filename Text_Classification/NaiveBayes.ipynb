{
 "cells": [
  {
   "cell_type": "markdown",
   "id": "707aea5d-217f-469d-aaad-ee953e8bb118",
   "metadata": {},
   "source": [
    "# A simple text classifier using the Naive Bayes Algorithm to categorize text as either 'Sports' or 'Not Sports'."
   ]
  },
  {
   "cell_type": "markdown",
   "id": "eb8fc8aa-5315-4ad2-9064-c7bf3f9de7dd",
   "metadata": {},
   "source": [
    "Naive Bayes is a probabilistic algorithm based on Bayes' Theorem, which helps find the probability\n",
    "of a label given a set of features.<br>\n",
    "THe 'Naive' part comes from the assumption that all the features are independant of each other, which is often not the case in real life, but simplifies calculations.<br>\n",
    "Bayes' Theorem: $P(A|B) = \\frac{P(B|A) * P(A)}{P(B)}$ where:<br>\n",
    "$P(A|B)$ is the probablity of $A$ happening, given $B$ has occurred. <br>\n",
    "$P(A)$ and $P(B)$ are the probabilities of $A$ and $B$ occurring idependantly. <br>\n",
    "$P(B|A)$ is the probability of $B$ occuring, given A has occurred"
   ]
  },
  {
   "cell_type": "markdown",
   "id": "b9c0af26-adb2-40e3-9070-34e2a9c7efcc",
   "metadata": {},
   "source": [
    "## Imports:"
   ]
  },
  {
   "cell_type": "code",
   "execution_count": 8,
   "id": "d5ba1ba6-6ef5-4e5e-b288-73589e4be3dc",
   "metadata": {},
   "outputs": [],
   "source": [
    "from sklearn.feature_extraction.text import CountVectorizer\n",
    "from sklearn.naive_bayes import MultinomialNB\n",
    "from sklearn.pipeline import make_pipeline\n",
    "from sklearn.metrics import accuracy_score"
   ]
  },
  {
   "cell_type": "markdown",
   "id": "995417f4-a6d4-4518-936d-9292a18d3c6a",
   "metadata": {},
   "source": [
    "## Generate Data:"
   ]
  },
  {
   "cell_type": "code",
   "execution_count": 9,
   "id": "14c5da44-ebac-43c8-a431-d452bc3a6925",
   "metadata": {},
   "outputs": [],
   "source": [
    "texts = [\"Football is great\", \"I love tennis\", \"Chess is a board game\", \n",
    "         \"Basketball is fast\", \"Programming is not a sport\", \"I hate sports\"]\n",
    "labels = [\"Sports\", \"Sports\", \"Not Sports\", \"Sports\", \"Not Sports\", \"Not Sports\"]"
   ]
  },
  {
   "cell_type": "markdown",
   "id": "ceb8ff3c-e3cc-4e6a-8340-da3c91aad26e",
   "metadata": {},
   "source": [
    "## Text Vectorization:"
   ]
  },
  {
   "cell_type": "code",
   "execution_count": 10,
   "id": "58504e0e-3a9f-4756-a9a5-4e91564070e0",
   "metadata": {},
   "outputs": [],
   "source": [
    "# convert the text into a format that the machine can unserstand using CountVectorizer\n",
    "vectorizer = CountVectorizer()"
   ]
  },
  {
   "cell_type": "markdown",
   "id": "558238fe-ca59-41be-8eb5-42bfe01b0df0",
   "metadata": {},
   "source": [
    "## Create and Train the Model:"
   ]
  },
  {
   "cell_type": "code",
   "execution_count": 11,
   "id": "bcfcedc3-6df0-4358-b15a-7134d45caf40",
   "metadata": {},
   "outputs": [
    {
     "data": {
      "text/html": [
       "<style>#sk-container-id-2 {color: black;background-color: white;}#sk-container-id-2 pre{padding: 0;}#sk-container-id-2 div.sk-toggleable {background-color: white;}#sk-container-id-2 label.sk-toggleable__label {cursor: pointer;display: block;width: 100%;margin-bottom: 0;padding: 0.3em;box-sizing: border-box;text-align: center;}#sk-container-id-2 label.sk-toggleable__label-arrow:before {content: \"▸\";float: left;margin-right: 0.25em;color: #696969;}#sk-container-id-2 label.sk-toggleable__label-arrow:hover:before {color: black;}#sk-container-id-2 div.sk-estimator:hover label.sk-toggleable__label-arrow:before {color: black;}#sk-container-id-2 div.sk-toggleable__content {max-height: 0;max-width: 0;overflow: hidden;text-align: left;background-color: #f0f8ff;}#sk-container-id-2 div.sk-toggleable__content pre {margin: 0.2em;color: black;border-radius: 0.25em;background-color: #f0f8ff;}#sk-container-id-2 input.sk-toggleable__control:checked~div.sk-toggleable__content {max-height: 200px;max-width: 100%;overflow: auto;}#sk-container-id-2 input.sk-toggleable__control:checked~label.sk-toggleable__label-arrow:before {content: \"▾\";}#sk-container-id-2 div.sk-estimator input.sk-toggleable__control:checked~label.sk-toggleable__label {background-color: #d4ebff;}#sk-container-id-2 div.sk-label input.sk-toggleable__control:checked~label.sk-toggleable__label {background-color: #d4ebff;}#sk-container-id-2 input.sk-hidden--visually {border: 0;clip: rect(1px 1px 1px 1px);clip: rect(1px, 1px, 1px, 1px);height: 1px;margin: -1px;overflow: hidden;padding: 0;position: absolute;width: 1px;}#sk-container-id-2 div.sk-estimator {font-family: monospace;background-color: #f0f8ff;border: 1px dotted black;border-radius: 0.25em;box-sizing: border-box;margin-bottom: 0.5em;}#sk-container-id-2 div.sk-estimator:hover {background-color: #d4ebff;}#sk-container-id-2 div.sk-parallel-item::after {content: \"\";width: 100%;border-bottom: 1px solid gray;flex-grow: 1;}#sk-container-id-2 div.sk-label:hover label.sk-toggleable__label {background-color: #d4ebff;}#sk-container-id-2 div.sk-serial::before {content: \"\";position: absolute;border-left: 1px solid gray;box-sizing: border-box;top: 0;bottom: 0;left: 50%;z-index: 0;}#sk-container-id-2 div.sk-serial {display: flex;flex-direction: column;align-items: center;background-color: white;padding-right: 0.2em;padding-left: 0.2em;position: relative;}#sk-container-id-2 div.sk-item {position: relative;z-index: 1;}#sk-container-id-2 div.sk-parallel {display: flex;align-items: stretch;justify-content: center;background-color: white;position: relative;}#sk-container-id-2 div.sk-item::before, #sk-container-id-2 div.sk-parallel-item::before {content: \"\";position: absolute;border-left: 1px solid gray;box-sizing: border-box;top: 0;bottom: 0;left: 50%;z-index: -1;}#sk-container-id-2 div.sk-parallel-item {display: flex;flex-direction: column;z-index: 1;position: relative;background-color: white;}#sk-container-id-2 div.sk-parallel-item:first-child::after {align-self: flex-end;width: 50%;}#sk-container-id-2 div.sk-parallel-item:last-child::after {align-self: flex-start;width: 50%;}#sk-container-id-2 div.sk-parallel-item:only-child::after {width: 0;}#sk-container-id-2 div.sk-dashed-wrapped {border: 1px dashed gray;margin: 0 0.4em 0.5em 0.4em;box-sizing: border-box;padding-bottom: 0.4em;background-color: white;}#sk-container-id-2 div.sk-label label {font-family: monospace;font-weight: bold;display: inline-block;line-height: 1.2em;}#sk-container-id-2 div.sk-label-container {text-align: center;}#sk-container-id-2 div.sk-container {/* jupyter's `normalize.less` sets `[hidden] { display: none; }` but bootstrap.min.css set `[hidden] { display: none !important; }` so we also need the `!important` here to be able to override the default hidden behavior on the sphinx rendered scikit-learn.org. See: https://github.com/scikit-learn/scikit-learn/issues/21755 */display: inline-block !important;position: relative;}#sk-container-id-2 div.sk-text-repr-fallback {display: none;}</style><div id=\"sk-container-id-2\" class=\"sk-top-container\"><div class=\"sk-text-repr-fallback\"><pre>Pipeline(steps=[(&#x27;countvectorizer&#x27;, CountVectorizer()),\n",
       "                (&#x27;multinomialnb&#x27;, MultinomialNB())])</pre><b>In a Jupyter environment, please rerun this cell to show the HTML representation or trust the notebook. <br />On GitHub, the HTML representation is unable to render, please try loading this page with nbviewer.org.</b></div><div class=\"sk-container\" hidden><div class=\"sk-item sk-dashed-wrapped\"><div class=\"sk-label-container\"><div class=\"sk-label sk-toggleable\"><input class=\"sk-toggleable__control sk-hidden--visually\" id=\"sk-estimator-id-4\" type=\"checkbox\" ><label for=\"sk-estimator-id-4\" class=\"sk-toggleable__label sk-toggleable__label-arrow\">Pipeline</label><div class=\"sk-toggleable__content\"><pre>Pipeline(steps=[(&#x27;countvectorizer&#x27;, CountVectorizer()),\n",
       "                (&#x27;multinomialnb&#x27;, MultinomialNB())])</pre></div></div></div><div class=\"sk-serial\"><div class=\"sk-item\"><div class=\"sk-estimator sk-toggleable\"><input class=\"sk-toggleable__control sk-hidden--visually\" id=\"sk-estimator-id-5\" type=\"checkbox\" ><label for=\"sk-estimator-id-5\" class=\"sk-toggleable__label sk-toggleable__label-arrow\">CountVectorizer</label><div class=\"sk-toggleable__content\"><pre>CountVectorizer()</pre></div></div></div><div class=\"sk-item\"><div class=\"sk-estimator sk-toggleable\"><input class=\"sk-toggleable__control sk-hidden--visually\" id=\"sk-estimator-id-6\" type=\"checkbox\" ><label for=\"sk-estimator-id-6\" class=\"sk-toggleable__label sk-toggleable__label-arrow\">MultinomialNB</label><div class=\"sk-toggleable__content\"><pre>MultinomialNB()</pre></div></div></div></div></div></div></div>"
      ],
      "text/plain": [
       "Pipeline(steps=[('countvectorizer', CountVectorizer()),\n",
       "                ('multinomialnb', MultinomialNB())])"
      ]
     },
     "execution_count": 11,
     "metadata": {},
     "output_type": "execute_result"
    }
   ],
   "source": [
    "# create a Naive Bayes model \n",
    "myModel = make_pipeline(vectorizer, MultinomialNB())\n",
    "\n",
    "myModel.fit(texts, labels)"
   ]
  },
  {
   "cell_type": "markdown",
   "id": "2efe2374-6025-4e14-836e-89767a329af7",
   "metadata": {},
   "source": [
    "## Evaluate:"
   ]
  },
  {
   "cell_type": "code",
   "execution_count": 12,
   "id": "9217b689-5b5d-472f-8d65-519109e66a81",
   "metadata": {},
   "outputs": [
    {
     "name": "stdout",
     "output_type": "stream",
     "text": [
      "'I enjoy playing soccer' is Not Sports\n",
      "'Video games are awesome' is Not Sports\n",
      "'Is golf a sport?' is Not Sports\n",
      "'Coding is fun' is Sports\n"
     ]
    }
   ],
   "source": [
    "test_texts = [\"I enjoy playing soccer\", \"Video games are awesome\", \"Is golf a sport?\", \"Coding is fun\"]\n",
    "\n",
    "# makes predictions\n",
    "test_labels = myModel.predict(test_texts)\n",
    "\n",
    "for text, label in zip(test_texts, test_labels):\n",
    "    print(f\"'{text}' is {label}\")"
   ]
  },
  {
   "cell_type": "code",
   "execution_count": null,
   "id": "319e5ea7-624f-47e1-98ae-5361e60671b1",
   "metadata": {},
   "outputs": [],
   "source": []
  }
 ],
 "metadata": {
  "kernelspec": {
   "display_name": "Python 3 (ipykernel)",
   "language": "python",
   "name": "python3"
  },
  "language_info": {
   "codemirror_mode": {
    "name": "ipython",
    "version": 3
   },
   "file_extension": ".py",
   "mimetype": "text/x-python",
   "name": "python",
   "nbconvert_exporter": "python",
   "pygments_lexer": "ipython3",
   "version": "3.10.8"
  }
 },
 "nbformat": 4,
 "nbformat_minor": 5
}
