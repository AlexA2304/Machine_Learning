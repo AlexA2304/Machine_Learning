{
 "cells": [
  {
   "cell_type": "markdown",
   "id": "ced4601f-1985-4a88-985d-0d35fd321514",
   "metadata": {},
   "source": [
    "# User-User Collaborative Filtering"
   ]
  },
  {
   "cell_type": "markdown",
   "id": "830f78e6-fead-484f-9a31-adf887f74f23",
   "metadata": {},
   "source": [
    "Simple User-User Collaborative Filtering recommendation system using the Pearson Correlation Coefficient to find similar users."
   ]
  },
  {
   "cell_type": "markdown",
   "id": "984fd083-a344-4369-a164-8a0983749c6a",
   "metadata": {},
   "source": [
    "## Pearson Correlation Coefficient\n",
    "A measure of the linear relatioinship between two variables. It is a number between -1 and 1 that indicates the extent to which two variables change together. **The Formula:** <br>\n",
    "$\n",
    "r = \\frac{\\sum_{i=1}^{n} (X_i - \\bar{X})(Y_i - \\bar{Y})}{\\sqrt{\\sum_{i=1}^{n} (X_i - \\bar{X})^2 \\sum_{i=1}^{n} (Y_i - \\bar{Y})^2}}\n",
    "$<br>\n",
    "- where $\\bar{X}$ and $\\bar{Y}$ are the means of $X$ and $Y$<br>\n",
    "- $X_i$ and $Y_i$ are individual data points in $X$ and $Y$"
   ]
  },
  {
   "cell_type": "code",
   "execution_count": 19,
   "id": "e3416a13-5af0-46de-b8dd-b7cd563466b7",
   "metadata": {},
   "outputs": [],
   "source": [
    "import pandas as pd\n",
    "import numpy as np"
   ]
  },
  {
   "cell_type": "code",
   "execution_count": 20,
   "id": "56b8efd9-d67c-4f2c-9a61-bf60914eb770",
   "metadata": {},
   "outputs": [],
   "source": [
    "user_ratings = pd.DataFrame({\n",
    "    'User': ['Alice', 'Bob', 'Carol', 'Dave', 'Eve', 'Frank'],\n",
    "    'Star Wars': [5, 4, np.nan, 1, np.nan, 2],\n",
    "    'The Matrix': [3, np.nan, 2, np.nan, 4, 5],\n",
    "    'Avatar': [2, 1, 5, 4, 3, np.nan],\n",
    "    'Inception': [np.nan, 5, 4, 3, 2, 1],\n",
    "    'The Avengers': [4, 3, np.nan, 2, 1, np.nan]\n",
    "})\n",
    "\n",
    "# Set 'User' as the index\n",
    "user_ratings.set_index('User', inplace=True)"
   ]
  },
  {
   "cell_type": "code",
   "execution_count": 21,
   "id": "b1cb5ef0-3434-4730-a762-f449318ca3f7",
   "metadata": {},
   "outputs": [],
   "source": [
    "# Transpose the DataFrame\n",
    "user_ratings_T = user_ratings.transpose()\n",
    "\n",
    "# Compute Pearson Correlation between users\n",
    "correlation_matrix = user_ratings_T.corr(method='pearson')\n",
    "\n",
    "# Get similarity of all users to 'Alice'\n",
    "alice_similarity = correlation_matrix['Alice']\n",
    "\n",
    "# Sort by similarity\n",
    "alice_similarity = alice_similarity.sort_values(ascending=False)"
   ]
  },
  {
   "cell_type": "code",
   "execution_count": 22,
   "id": "e72d36a5-170c-40bb-ab87-d89742548a66",
   "metadata": {},
   "outputs": [
    {
     "data": {
      "text/plain": [
       "[('Inception', 1.6233030277982337)]"
      ]
     },
     "execution_count": 22,
     "metadata": {},
     "output_type": "execute_result"
    }
   ],
   "source": [
    "# Find movies that Alice hasn't rated yet\n",
    "alice_unrated_movies = user_ratings.columns[user_ratings.loc['Alice'].isna()].tolist()\n",
    "\n",
    "# Recommend movies based on what similar users have liked\n",
    "recommended_movies = {}\n",
    "for movie in alice_unrated_movies:\n",
    "    other_users = user_ratings.index[user_ratings[movie].notna()].tolist()\n",
    "    if 'Alice' in other_users:\n",
    "        other_users.remove('Alice')\n",
    "    sim_sum = np.sum([alice_similarity[user] for user in other_users])\n",
    "    weighted_ratings = np.sum([alice_similarity[user] * user_ratings.loc[user, movie] for user in other_users])\n",
    "    recommended_movies[movie] = weighted_ratings / sim_sum if sim_sum != 0 else 0\n",
    "\n",
    "# Sort movies by weighted rating\n",
    "recommended_movies = sorted(recommended_movies.items(), key=lambda x: x[1], reverse=True)\n",
    "\n",
    "recommended_movies"
   ]
  },
  {
   "cell_type": "markdown",
   "id": "872bb693-a6ca-4de5-8372-e81a8f912635",
   "metadata": {},
   "source": [
    "**Inception** is the movie being recommended to **Alice**, **1.623..** is the weighted average rating for **Inception** based on the ratings given by users who are similar to **Alice**. The weighting is done using the Pearson Correlation Coefficient as a measure of similarity."
   ]
  },
  {
   "cell_type": "code",
   "execution_count": null,
   "id": "82d2c5e2-1ca7-4558-a495-e0f9bf728c81",
   "metadata": {},
   "outputs": [],
   "source": []
  }
 ],
 "metadata": {
  "kernelspec": {
   "display_name": "Python 3 (ipykernel)",
   "language": "python",
   "name": "python3"
  },
  "language_info": {
   "codemirror_mode": {
    "name": "ipython",
    "version": 3
   },
   "file_extension": ".py",
   "mimetype": "text/x-python",
   "name": "python",
   "nbconvert_exporter": "python",
   "pygments_lexer": "ipython3",
   "version": "3.10.8"
  }
 },
 "nbformat": 4,
 "nbformat_minor": 5
}
