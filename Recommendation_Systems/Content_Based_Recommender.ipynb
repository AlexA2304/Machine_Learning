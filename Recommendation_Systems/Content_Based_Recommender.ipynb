{
 "cells": [
  {
   "cell_type": "markdown",
   "id": "8161d41e-a529-4700-ba3e-016526cde36c",
   "metadata": {},
   "source": [
    "### Let's say you have a small dataset of movies and we want to recommend movies similar to a given movie based on genres. cosine similarity will be used to find the similarity between movies."
   ]
  },
  {
   "cell_type": "markdown",
   "id": "e43962c4-4c64-4d3a-add2-17bab5ec3e8c",
   "metadata": {},
   "source": [
    "## Cosine Similarity:\n",
    "Cosine similarity measures the angle between two vectors in a multi-dimensional space. It's often used in text analysis to find similarity between docuemnts and paragraphs. The formula for cosine similarity between two vectors $A$ and $B$ is: <br>\n",
    "$Cosine Similarity = \\frac{A * B}{||A|| * ||B||}$ <br>\n",
    "- $A * B$ is the dot product of $A$ and $B$ <br>\n",
    "- $||A||$ and $||B||$ are magnitudes (lengths) of vectors $A$ and $B$<br>\n",
    "Cosine similarity ranges from -1 to 1, but in text analysis it can be from 0 to 1, where the closer to 1 the higher the similarity."
   ]
  },
  {
   "cell_type": "markdown",
   "id": "5374c01a-33b4-4932-bdd5-260886fab39f",
   "metadata": {},
   "source": [
    "## Imports:"
   ]
  },
  {
   "cell_type": "code",
   "execution_count": 2,
   "id": "7b58bf3e-732a-44cf-bd86-d33b1d9c636a",
   "metadata": {},
   "outputs": [],
   "source": [
    "from sklearn.feature_extraction.text import TfidfVectorizer\n",
    "from sklearn.metrics.pairwise import linear_kernel\n",
    "import pandas as pd # DataFrame structure and analysis tools"
   ]
  },
  {
   "cell_type": "markdown",
   "id": "0ce1d07e-5b61-4599-b5ca-30d351804bf2",
   "metadata": {},
   "source": [
    "## Generate Data:"
   ]
  },
  {
   "cell_type": "code",
   "execution_count": 3,
   "id": "67bbd589-346f-45b7-9be5-76bbef714f79",
   "metadata": {},
   "outputs": [],
   "source": [
    "movies = pd.DataFrame({ # Type of ready-made Data Structure courtesy of pandas.\n",
    "    'title': ['Star Wars', 'The Matrix', 'Avatar', 'Inception', 'The Avengers'],\n",
    "    'genres': ['Sci-Fi', 'Sci-Fi', 'Sci-Fi', 'Sci-Fi', 'Action']\n",
    "})"
   ]
  },
  {
   "cell_type": "markdown",
   "id": "603acfff-bbca-4d74-b5ff-c03f02fc88aa",
   "metadata": {},
   "source": [
    "## Text Vectorization:"
   ]
  },
  {
   "cell_type": "code",
   "execution_count": 7,
   "id": "801cb054-bd23-4d62-9376-6f0a2d1766bc",
   "metadata": {},
   "outputs": [],
   "source": [
    "# Term Frequency-Inverse Document Frequency. \n",
    "# Way to represent text by considering how important each term is in a specific document \n",
    "# relative to all other documents. A weight is assigned to each term/word.\n",
    "vectorizer = TfidfVectorizer() \n",
    "\n",
    "tfidf_matrix = vectorizer.fit_transform(movies['genres'])"
   ]
  },
  {
   "cell_type": "markdown",
   "id": "ca392737-4d46-4113-b45b-36256aa3e292",
   "metadata": {},
   "source": [
    "## Compute Similarities:"
   ]
  },
  {
   "cell_type": "code",
   "execution_count": 5,
   "id": "8597b3c1-e00b-4232-9d0f-4664c9813786",
   "metadata": {},
   "outputs": [],
   "source": [
    "# calculates the cosine similarity between the TF-IDF vectors.\n",
    "cosine_sim = linear_kernel(tfidf_matrix, tfidf_matrix) "
   ]
  },
  {
   "cell_type": "markdown",
   "id": "9ad28f5b-6090-432a-9907-cfa0d7102d68",
   "metadata": {},
   "source": [
    "## Make Recommendations:"
   ]
  },
  {
   "cell_type": "code",
   "execution_count": 6,
   "id": "6f0311d2-b7b4-43b4-964c-faed93613310",
   "metadata": {},
   "outputs": [
    {
     "name": "stdout",
     "output_type": "stream",
     "text": [
      "1    The Matrix\n",
      "2        Avatar\n",
      "Name: title, dtype: object\n"
     ]
    }
   ],
   "source": [
    "def get_recommendations(title):\n",
    "    # finding the index of the movie from the DataFrame that matches the given title.\n",
    "    idx = movies.index[movies['title'] == title].tolist()[0]\n",
    "    # gets the list of cosine similarity scores between the movie at idx and all other movies.\n",
    "    # stored in the format (index, score).\n",
    "    sim_scores = list(enumerate(cosine_sim[idx]))\n",
    "    # sort the list based on similarity scores in descending order (most similar at top).\n",
    "    sim_scores = sorted(sim_scores, key=lambda x: x[1], reverse=True)\n",
    "    # slice the list to only get top 2 results.\n",
    "    sim_scores = sim_scores[1:3]\n",
    "    # extract indices.\n",
    "    movie_indices = [i[0] for i in sim_scores]\n",
    "    # return the titles of the most similar movies \n",
    "    return movies['title'].iloc[movie_indices]\n",
    "\n",
    "# Test the function\n",
    "print(get_recommendations('Star Wars'))"
   ]
  },
  {
   "cell_type": "code",
   "execution_count": null,
   "id": "7765ecdd-8170-42ce-a647-9e0ecc2b5028",
   "metadata": {},
   "outputs": [],
   "source": []
  }
 ],
 "metadata": {
  "kernelspec": {
   "display_name": "Python 3 (ipykernel)",
   "language": "python",
   "name": "python3"
  },
  "language_info": {
   "codemirror_mode": {
    "name": "ipython",
    "version": 3
   },
   "file_extension": ".py",
   "mimetype": "text/x-python",
   "name": "python",
   "nbconvert_exporter": "python",
   "pygments_lexer": "ipython3",
   "version": "3.10.8"
  }
 },
 "nbformat": 4,
 "nbformat_minor": 5
}
